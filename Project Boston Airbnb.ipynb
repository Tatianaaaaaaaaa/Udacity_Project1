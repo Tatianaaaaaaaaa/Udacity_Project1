{
 "cells": [
  {
   "cell_type": "markdown",
   "metadata": {},
   "source": [
    "1) Pick a dataset.\n",
    "\n",
    "Boston Airbnb Rental Prices\n",
    "\n",
    "2) Pose at least three questions related to business or real-world applications of how the data could be used.\n",
    "\n",
    "What features affect the rental price ? \n",
    "what's predicted Boston Airbnb Rental Prices ?\n",
    "how Boston Airbnb Rental Prices related to seasons?\n",
    "\n",
    "3) Create a Jupyter Notebook, using any associated packages you'd like, to:\n",
    "\n",
    "Prepare data:\n",
    "Gather necessary data to answer your questions\n",
    "Handle categorical and missing data\n",
    "Provide insight into the methods you chose and why you chose them\n",
    "Analyze, Model, and Visualize\n",
    "Provide a clear connection between your business questions and how the data answers them.\n",
    "\n",
    "4) Communicate your business insights:\n",
    "\n",
    "Create a Github repository to share your code and data wrangling/modeling techniques, with a technical audience in mind\n",
    "Create a blog post to share your questions and insights with a non-technical audience\n",
    "Your deliverables will be a Github repo and a blog post. Use the rubric here to assist in successfully completing this project!"
   ]
  },
  {
   "cell_type": "code",
   "execution_count": null,
   "metadata": {},
   "outputs": [],
   "source": [
    "# Import library \n",
    "import pandas as pd\n",
    "import numpy as np\n",
    "%matplotlib inline\n",
    "\n",
    "from matplotlib import pyplot as plt\n",
    "from matplotlib import style\n",
    "\n",
    "import seaborn as sns\n",
    "sns.set_style('darkgrid')"
   ]
  },
  {
   "cell_type": "code",
   "execution_count": null,
   "metadata": {},
   "outputs": [],
   "source": [
    "import os \n",
    "# get the current working directory\n",
    "cwd = os.getcwd()\n",
    "print(cwd)"
   ]
  },
  {
   "cell_type": "code",
   "execution_count": null,
   "metadata": {
    "scrolled": true
   },
   "outputs": [],
   "source": [
    "# Import data to dataframes\n",
    "list = pd.read_csv('listings.csv')\n",
    "print(list.head())\n",
    "print(list.info()) # check basic information "
   ]
  },
  {
   "cell_type": "markdown",
   "metadata": {},
   "source": [
    "It includes basic information of Airbnb in Boston areas "
   ]
  },
  {
   "cell_type": "code",
   "execution_count": null,
   "metadata": {},
   "outputs": [],
   "source": [
    "reviews = pd.read_csv('reviews.csv')\n",
    "print(reviews.head())\n",
    "reviews.info()"
   ]
  },
  {
   "cell_type": "code",
   "execution_count": null,
   "metadata": {},
   "outputs": [],
   "source": [
    "calendar = pd.read_csv(\"calendar.csv\")\n",
    "print(calendar.head())\n",
    "calendar.info()"
   ]
  },
  {
   "cell_type": "markdown",
   "metadata": {},
   "source": [
    "CRISP_DM\n",
    "1. STEP 1. Business Understanding:  find question want to solve ?\n",
    "        Questions: What features affect the price ? \n",
    "        \n",
    "2. STEP 2. Data Understanding:  What kind of data that you need to find the insights ?\n",
    "\n",
    "3. STEP 3. Data preparation: data wrangling and cleaning \n",
    "        (no need for this question)\n",
    "        \n",
    "4. STEP 4. Modeling: \n",
    "5. STEP 5. Evaluation:\n",
    "6. STEP 6. Deployment: (visulization and well communication)"
   ]
  },
  {
   "cell_type": "code",
   "execution_count": null,
   "metadata": {},
   "outputs": [],
   "source": [
    "# Copy the dataframe\n",
    "list_clean = list.copy()\n",
    "reviews_clean = reviews.copy()\n",
    "calendar_clean = calendar.copy()\n",
    "# merge two dataset as one\n",
    "rew_cal = pd.merge(reviews_clean,calendar_clean,on = 'listing_id',how = \"inner\")"
   ]
  },
  {
   "cell_type": "code",
   "execution_count": null,
   "metadata": {},
   "outputs": [],
   "source": [
    "rew_cal.info()"
   ]
  },
  {
   "cell_type": "code",
   "execution_count": null,
   "metadata": {},
   "outputs": [],
   "source": [
    "# STEP 2. Data Understanding:  What kind of data that you need to find the insights ?"
   ]
  },
  {
   "cell_type": "code",
   "execution_count": null,
   "metadata": {},
   "outputs": [],
   "source": [
    "# analysis the columns\n",
    "col_list = list_clean.columns\n",
    "print(col_list)"
   ]
  },
  {
   "cell_type": "code",
   "execution_count": null,
   "metadata": {},
   "outputs": [],
   "source": [
    "list_clean[\"reviews_per_month\"]"
   ]
  },
  {
   "cell_type": "code",
   "execution_count": null,
   "metadata": {},
   "outputs": [],
   "source": [
    "# First, let's drop some columns that are not useful for analysis (not related to the rental price, objects, url,)\n",
    "cols = ['listing_url', 'scrape_id', 'last_scraped', 'name', 'summary','thumbnail_url','medium_url','picture_url',\n",
    "        'description', 'experiences_offered', 'neighborhood_overview',\n",
    "       'host_id', 'host_url', 'host_name', 'host_location',\n",
    "       'host_about',  'host_neighbourhood', 'host_listings_count',\n",
    "       'host_total_listings_count', 'host_verifications',\n",
    "        'host_identity_verified', 'street',\n",
    "       'neighbourhood', 'neighbourhood_group_cleansed', 'market',\n",
    "       'smart_location', 'is_location_exact', 'review_scores_cleanliness',\n",
    "       'review_scores_checkin', 'review_scores_communication',\n",
    "       'review_scores_location', 'review_scores_value', 'requires_license',\n",
    "       'license', 'jurisdiction_names', 'instant_bookable',\n",
    "    'calculated_host_listings_count',\n",
    "       'reviews_per_month','xl_picture_url']\n",
    "list_clean.drop(cols, axis=1, inplace=True)"
   ]
  },
  {
   "cell_type": "code",
   "execution_count": null,
   "metadata": {},
   "outputs": [],
   "source": [
    "print(list_clean)\n",
    "list_clean.info()"
   ]
  },
  {
   "cell_type": "code",
   "execution_count": null,
   "metadata": {},
   "outputs": [],
   "source": [
    "# drop the colunms with more than half of the missing value\n",
    "cols = list_clean.columns[list_clean.isnull().sum()/list_clean.shape[0] > 0.5]\n",
    "list_clean.drop(cols, axis=1, inplace=True)"
   ]
  },
  {
   "cell_type": "code",
   "execution_count": null,
   "metadata": {},
   "outputs": [],
   "source": [
    "print(list_clean)\n",
    "list_clean.info()"
   ]
  },
  {
   "cell_type": "code",
   "execution_count": null,
   "metadata": {},
   "outputs": [],
   "source": [
    "# Next, let's fix some datatype errors, extract numbers and change to int type\n",
    "list_clean.info()\n",
    "list_clean.head()"
   ]
  },
  {
   "cell_type": "code",
   "execution_count": null,
   "metadata": {},
   "outputs": [],
   "source": [
    "#convert to string and extract the integer using regular expressions.\n",
    "list_clean['price']=list_clean['price'].str.extract('(\\d+)').astype(int)"
   ]
  },
  {
   "cell_type": "code",
   "execution_count": null,
   "metadata": {},
   "outputs": [],
   "source": [
    "print(list_clean['price'])"
   ]
  },
  {
   "cell_type": "code",
   "execution_count": null,
   "metadata": {},
   "outputs": [],
   "source": [
    "list_clean['cleaning_fee']=list_clean['cleaning_fee'].str.extract('(\\d+)').astype(float)"
   ]
  },
  {
   "cell_type": "code",
   "execution_count": null,
   "metadata": {},
   "outputs": [],
   "source": [
    "print(list_clean['cleaning_fee'])"
   ]
  },
  {
   "cell_type": "code",
   "execution_count": null,
   "metadata": {},
   "outputs": [],
   "source": [
    "list_clean[\"extra_people\"]=list_clean['extra_people'].str.extract('(\\d+)').astype(float)\n",
    "print(list_clean['extra_people'])"
   ]
  },
  {
   "cell_type": "code",
   "execution_count": null,
   "metadata": {},
   "outputs": [],
   "source": [
    "list_clean[\"zipcode\"]=list_clean['zipcode'].str.extract('(\\d+)').astype(float)\n",
    "print(list_clean['zipcode'])"
   ]
  },
  {
   "cell_type": "code",
   "execution_count": null,
   "metadata": {},
   "outputs": [],
   "source": [
    "# Change datatype for host_since\n",
    "list_clean['host_since'] = pd.to_datetime(list_clean.host_since)\n",
    "print(list_clean['host_since'])"
   ]
  },
  {
   "cell_type": "code",
   "execution_count": null,
   "metadata": {},
   "outputs": [],
   "source": [
    "# select subste of datalist with \"int\" and \"float\",it has been selected to explore person's correlation\n",
    "df_num = list_clean.select_dtypes(include=['int64','int32','float64'])\n",
    "df_num.head()\n",
    "df_num.info()"
   ]
  },
  {
   "cell_type": "code",
   "execution_count": null,
   "metadata": {},
   "outputs": [],
   "source": [
    "# use scatterplot to explore the location\n",
    "sns.scatterplot(data = list_clean, x = \"latitude\", y =\"longitude\",hue = \"price\", palette =\"Blues\")"
   ]
  },
  {
   "cell_type": "markdown",
   "metadata": {},
   "source": [
    " we can see there is no clear relationship bewteen price and locations "
   ]
  },
  {
   "cell_type": "code",
   "execution_count": null,
   "metadata": {},
   "outputs": [],
   "source": [
    "# visualizae the price\n",
    "sns.distplot(df_num['price'], bins=20, kde=True)\n",
    "plt.ylabel('Percentage', fontsize=11)\n",
    "plt.xlabel('Price (dollar)', fontsize=11)\n",
    "plt.title('Listed Price Distribution', fontsize=12);"
   ]
  },
  {
   "cell_type": "code",
   "execution_count": null,
   "metadata": {},
   "outputs": [],
   "source": [
    "# visualize the correlation matrix\n",
    "corr = df_num.corr()\n",
    "mask = np.zeros_like(corr) #Use a mask to plot only part of a matrix\n",
    "mask[np.triu_indices_from(mask)] = True\n",
    "with sns.axes_style(\"white\"):\n",
    "    f, ax = plt.subplots(figsize=(18, 16))\n",
    "    ax = sns.heatmap(corr, mask=mask, vmax=.3, square=True, annot=True, fmt='.2f', cmap='coolwarm')"
   ]
  },
  {
   "cell_type": "markdown",
   "metadata": {},
   "source": [
    "Based on the numerical data,the price is highly related to the number of accommodates, bedrooms, beds, cleanning_fee, and guests_included"
   ]
  },
  {
   "cell_type": "code",
   "execution_count": null,
   "metadata": {},
   "outputs": [],
   "source": [
    "price_list = df_num.groupby(['bedrooms','bathrooms']).mean()['price']\n",
    "sns.scatterplot(data = df_num, x = \"bedrooms\", y =\"price\",hue ='guests_included', palette =\"Blues\")"
   ]
  },
  {
   "cell_type": "code",
   "execution_count": null,
   "metadata": {},
   "outputs": [],
   "source": [
    "sns.scatterplot(data = df_num, x = \"zipcode\", y =\"price\", palette =\"Blues\")"
   ]
  },
  {
   "cell_type": "code",
   "execution_count": null,
   "metadata": {},
   "outputs": [],
   "source": [
    "sns.boxplot(x = \"bedrooms\", y =\"price\", data = df_num, palette =\"Blues\")"
   ]
  },
  {
   "cell_type": "code",
   "execution_count": null,
   "metadata": {},
   "outputs": [],
   "source": [
    "sns.regplot(x = \"cleaning_fee\", y =\"price\", data = df_num) "
   ]
  },
  {
   "cell_type": "code",
   "execution_count": null,
   "metadata": {},
   "outputs": [],
   "source": [
    "# Now start to work with \"object\" \n",
    "df_cat = list_clean.select_dtypes(include=['object']) # subset dataframe \n",
    "df_cat.info()"
   ]
  },
  {
   "cell_type": "code",
   "execution_count": null,
   "metadata": {},
   "outputs": [],
   "source": [
    "df_cat.head()"
   ]
  },
  {
   "cell_type": "code",
   "execution_count": null,
   "metadata": {},
   "outputs": [],
   "source": [
    "# Take a quick look about the specific columns and their relationship with price"
   ]
  },
  {
   "cell_type": "code",
   "execution_count": null,
   "metadata": {},
   "outputs": [],
   "source": [
    "sns.countplot(x='property_type', data=df_cat,palette=\"Set3\")\n",
    "plt.show()\n",
    "\n",
    "sns.boxplot(x = \"property_type\", y =\"price\", data = list_clean, palette =\"Blues\")\n"
   ]
  },
  {
   "cell_type": "code",
   "execution_count": null,
   "metadata": {},
   "outputs": [],
   "source": [
    "sns.countplot(x='cancellation_policy', data=df_cat,palette=\"Set3\")\n",
    "plt.show()\n",
    "\n",
    "sns.boxplot(x = \"cancellation_policy\", y =\"price\", data = list_clean, palette =\"Blues\")"
   ]
  },
  {
   "cell_type": "code",
   "execution_count": null,
   "metadata": {},
   "outputs": [],
   "source": [
    "sns.countplot(x='room_type', data=df_cat,palette=\"Set3\")\n",
    "plt.show()\n",
    "sns.boxplot(x = \"room_type\", y =\"price\", data = list_clean, palette =\"Blues\")"
   ]
  },
  {
   "cell_type": "code",
   "execution_count": null,
   "metadata": {},
   "outputs": [],
   "source": [
    "sns.countplot(x='require_guest_phone_verification', data=df_cat, palette=\"Set3\")   \n",
    "plt.show()\n",
    "\n",
    "sns.boxplot(x = \"require_guest_phone_verification\", y =\"price\", data = list_clean, palette =\"Blues\")"
   ]
  },
  {
   "cell_type": "code",
   "execution_count": null,
   "metadata": {},
   "outputs": [],
   "source": [
    "sns.countplot(x='require_guest_profile_picture', data=df_cat,palette=\"Set3\")   \n",
    "plt.show()\n",
    "sns.boxplot(x = \"require_guest_profile_picture\", y =\"price\", data = list_clean, palette =\"Blues\")"
   ]
  },
  {
   "cell_type": "code",
   "execution_count": null,
   "metadata": {},
   "outputs": [],
   "source": [
    "sns.countplot(x='host_is_superhost', data=df_cat,palette=\"Set3\")   \n",
    "plt.show()\n",
    "sns.boxplot(x = \"host_is_superhost\", y =\"price\", data = list_clean, palette =\"Blues\")"
   ]
  },
  {
   "cell_type": "markdown",
   "metadata": {},
   "source": [
    "require_guest_phone_verification, room_type，cancellation_policy are affect the price "
   ]
  },
  {
   "cell_type": "markdown",
   "metadata": {},
   "source": [
    "CRISP_DM\n",
    "1. STEP 1. Business Understanding:  find question want to solve ?\n",
    "        Questions: predict the prices? \n",
    "        \n",
    "2. STEP 2. Data Understanding:  What kind of data that you need to find the insights ?\n",
    "\n",
    "3. STEP 3. Data preparation: data wrangling and cleaning \n",
    "        (no need for this question)\n",
    "        \n",
    "4. STEP 4. Modeling: \n",
    "5. STEP 5. Evaluation:\n",
    "6. STEP 6. Deployment: (visulization and well communication)"
   ]
  },
  {
   "cell_type": "code",
   "execution_count": null,
   "metadata": {},
   "outputs": [],
   "source": [
    "# mutiple linear regression will be used to predict price\n",
    "y = list_clean['price']"
   ]
  },
  {
   "cell_type": "code",
   "execution_count": null,
   "metadata": {},
   "outputs": [],
   "source": [
    "# Base on previous exploration, \n",
    "# the number of accommodates, bedrooms, beds, cleanning_fee, and guess_included, \n",
    "# require_guest_phone_verification, room_type，cancellation_policy, \n",
    "# are affect the price "
   ]
  },
  {
   "cell_type": "code",
   "execution_count": null,
   "metadata": {},
   "outputs": [],
   "source": [
    "# Dummy variables for Categorical Values\n",
    "list_clean['require_guest_phone_verification'].hist() "
   ]
  },
  {
   "cell_type": "code",
   "execution_count": null,
   "metadata": {},
   "outputs": [],
   "source": [
    "list_clean['require_guest_phone_verification'] = pd.get_dummies(list_clean['require_guest_phone_verification']) # code F as 1; code t as 0"
   ]
  },
  {
   "cell_type": "code",
   "execution_count": null,
   "metadata": {},
   "outputs": [],
   "source": [
    "print(list_clean['require_guest_phone_verification'])"
   ]
  },
  {
   "cell_type": "code",
   "execution_count": null,
   "metadata": {},
   "outputs": [],
   "source": [
    "list_clean['room_type'] = pd.get_dummies(list_clean['room_type']) \n",
    "list_clean['room_type'].hist()"
   ]
  },
  {
   "cell_type": "code",
   "execution_count": null,
   "metadata": {},
   "outputs": [],
   "source": [
    "list_clean['cancellation_policy'] = pd.get_dummies(list_clean['cancellation_policy']) \n",
    "list_clean['cancellation_policy'].hist()"
   ]
  },
  {
   "cell_type": "code",
   "execution_count": null,
   "metadata": {},
   "outputs": [],
   "source": []
  },
  {
   "cell_type": "code",
   "execution_count": null,
   "metadata": {},
   "outputs": [],
   "source": [
    "# Then, make a prediction using mutiple linear regression\n",
    "# parameters:\n",
    "# numerical data, accommodates, bedrooms, beds, cleanning_fee, and guess_included\n",
    "# Categorical data, require_guest_phone_verification, room_type，cancellation_policy, "
   ]
  },
  {
   "cell_type": "markdown",
   "metadata": {},
   "source": [
    "Prepare for traning data\n",
    "\n",
    "Supervised ML process: \n",
    "\t\t\t§ Instantiate \n",
    "\t\t\t§ Fit the model using training data\n",
    "\t\t\t§ Predict the results based on fitted model\n",
    "\t\t\t§ Score\n",
    "\n"
   ]
  },
  {
   "cell_type": "code",
   "execution_count": null,
   "metadata": {},
   "outputs": [],
   "source": [
    "list_clean[\"guests_included\"]"
   ]
  },
  {
   "cell_type": "code",
   "execution_count": null,
   "metadata": {},
   "outputs": [],
   "source": [
    "# Prepare for traning data\n",
    "# only set the quantitative vars\n",
    "varables = list_clean[['accommodates', 'bedrooms', 'beds', 'cleaning_fee','guests_included',\n",
    "                       'require_guest_phone_verification','room_type','cancellation_policy',\n",
    "                       'price']]\n",
    "\n",
    "# remove all nan value\n",
    "all_va = varables.dropna()\n",
    "\n",
    "X = all_va[['accommodates', 'bedrooms', 'beds', 'cleaning_fee','guests_included',\n",
    "                       'require_guest_phone_verification','room_type','cancellation_policy',]]\n",
    "y = all_va['price'] \n",
    "\n",
    "# Split data into training and test data, and fit a linear model\n",
    "from sklearn.model_selection import train_test_split\n",
    "# Split data into training and test data, and fit a linear model\n",
    "X_train, X_test, y_train, y_test = train_test_split(X, y , test_size=.30, random_state=32)"
   ]
  },
  {
   "cell_type": "code",
   "execution_count": null,
   "metadata": {},
   "outputs": [],
   "source": [
    "#Four steps:  Supervised ML process: \n",
    "import sklearn\n",
    "from sklearn.linear_model import LinearRegression\n",
    "from sklearn.metrics import r2_score, mean_squared_error\n",
    "\n",
    "#Instantiate\n",
    "lm_model = LinearRegression(normalize=True)\n",
    "#Fit - why does this break?\n",
    "lm_model.fit(X_train, y_train) \n",
    "#Predict\n",
    "y_test_preds =lm_model.predict(X_test)\n",
    "#Score\n",
    "r_test = r2_score(y_test, y_test_preds) # Rsquared here\n",
    "print(\"Rsquared in test dataset: \"+ str(r_test) )\n"
   ]
  },
  {
   "cell_type": "code",
   "execution_count": null,
   "metadata": {},
   "outputs": [],
   "source": [
    "#or Use cross validation  \n",
    "from sklearn.model_selection  import cross_val_score \n",
    "\n",
    "#Instantiate\n",
    "lm_model = LinearRegression(normalize=True)\n",
    "#Fit,Predict,Score\n",
    "scores = cross_val_score(lm_model, X, y, cv =5, scoring= \"r2\"  )\n",
    "print(\"%0.2f accuracy with a standard deviation of %0.2f\" % (scores.mean(), scores.std()))"
   ]
  },
  {
   "cell_type": "markdown",
   "metadata": {},
   "source": [
    "CRISP_DM\n",
    "1. STEP 1. Business Understanding:  find question want to solve ?\n",
    "        Questions: How rental price is related to seasons ? \n",
    "        \n",
    "2. STEP 2. Data Understanding:  What kind of data that you need to find the insights ?\n",
    "\n",
    "3. STEP 3. Data preparation: data wrangling and cleaning \n",
    "        (no need for this question)\n",
    "        \n",
    "4. STEP 4. Modeling: \n",
    "5. STEP 5. Evaluation:\n",
    "6. STEP 6. Deployment: (visulization and well communication)"
   ]
  },
  {
   "cell_type": "code",
   "execution_count": null,
   "metadata": {},
   "outputs": [],
   "source": [
    "rew_cal.info()\n",
    "rew_cal.head()"
   ]
  },
  {
   "cell_type": "code",
   "execution_count": null,
   "metadata": {},
   "outputs": [],
   "source": [
    "# To explore the relationship between date and price, calendar dataset is necessary\n",
    "calendar = pd.read_csv(\"calendar.csv\")\n",
    "print(calendar.head())\n",
    "calendar.info()"
   ]
  },
  {
   "cell_type": "code",
   "execution_count": null,
   "metadata": {},
   "outputs": [],
   "source": [
    "data_price = calendar[['date','price',\"available\"]]\n",
    "data_price.info()"
   ]
  },
  {
   "cell_type": "code",
   "execution_count": null,
   "metadata": {},
   "outputs": [],
   "source": [
    "data_price = data_price.dropna()\n",
    "data_price.info()"
   ]
  },
  {
   "cell_type": "code",
   "execution_count": null,
   "metadata": {},
   "outputs": [],
   "source": [
    "data_price['date'] = pd.to_datetime(data_price['date'])"
   ]
  },
  {
   "cell_type": "code",
   "execution_count": null,
   "metadata": {},
   "outputs": [],
   "source": [
    "#convert to string and extract the integer using regular expressions.\n",
    "data_price['price']=data_price['price'].str.extract('(\\d+)').astype(int)"
   ]
  },
  {
   "cell_type": "code",
   "execution_count": null,
   "metadata": {},
   "outputs": [],
   "source": [
    "data_price['available'].hist()"
   ]
  },
  {
   "cell_type": "code",
   "execution_count": null,
   "metadata": {},
   "outputs": [],
   "source": [
    "from pandas import read_csv\n",
    "from matplotlib import pyplot\n",
    "\n",
    "data_price[\"date\"].head()"
   ]
  },
  {
   "cell_type": "code",
   "execution_count": null,
   "metadata": {},
   "outputs": [],
   "source": [
    "from pandas import Grouper\n",
    "date_group= data_price.groupby(pd.Grouper(key=\"date\", freq=\"M\")).mean() # groupby date by Momth\n",
    "print(date_group)"
   ]
  },
  {
   "cell_type": "code",
   "execution_count": null,
   "metadata": {},
   "outputs": [],
   "source": [
    "date_group.plot()"
   ]
  },
  {
   "cell_type": "code",
   "execution_count": null,
   "metadata": {},
   "outputs": [],
   "source": [
    "import seaborn as sns\n",
    "sns.lineplot(x=\"date\", y=\"price\",\n",
    "             data=data_price)"
   ]
  },
  {
   "cell_type": "markdown",
   "metadata": {},
   "source": [
    "The rental price is decreased from 240 to 180 "
   ]
  }
 ],
 "metadata": {
  "kernelspec": {
   "display_name": "Python 3",
   "language": "python",
   "name": "python3"
  },
  "language_info": {
   "codemirror_mode": {
    "name": "ipython",
    "version": 3
   },
   "file_extension": ".py",
   "mimetype": "text/x-python",
   "name": "python",
   "nbconvert_exporter": "python",
   "pygments_lexer": "ipython3",
   "version": "3.8.5"
  }
 },
 "nbformat": 4,
 "nbformat_minor": 4
}
