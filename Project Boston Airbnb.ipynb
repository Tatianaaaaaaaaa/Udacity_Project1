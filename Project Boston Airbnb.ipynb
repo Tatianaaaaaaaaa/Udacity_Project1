{
 "cells": [
  {
   "cell_type": "markdown",
   "metadata": {},
   "source": [
    "Boston Airbnb Rental Prices\n",
    "\n",
    "Three questions related to business or real-world applications of how the data could be used.\n",
    "\n",
    "What features affect the rental price ? \n",
    "what's predicted Boston Airbnb Rental Prices ?\n",
    "how Boston Airbnb Rental Prices related to seasons?\n",
    "\n",
    "\n",
    "CRISP_DM\n",
    "1. STEP 1. Business Understanding:  find question want to solve ?        \n",
    "2. STEP 2. Data Understanding:  What kind of data that you need to find the insights ?\n",
    "3. STEP 3. Data preparation: data wrangling and cleaning         \n",
    "4. STEP 4. Modeling: \n",
    "5. STEP 5. Evaluation:\n",
    "6. STEP 6. Deployment: (visulization and well communication)"
   ]
  },
  {
   "cell_type": "code",
   "execution_count": 1,
   "metadata": {},
   "outputs": [],
   "source": [
    "# Import library \n",
    "import pandas as pd\n",
    "import numpy as np\n",
    "%matplotlib inline\n",
    "\n",
    "from matplotlib import pyplot as plt\n",
    "from matplotlib import style\n",
    "\n",
    "import seaborn as sns\n",
    "sns.set_style('darkgrid')"
   ]
  },
  {
   "cell_type": "code",
   "execution_count": 2,
   "metadata": {},
   "outputs": [
    {
     "name": "stdout",
     "output_type": "stream",
     "text": [
      "C:\\Users\\tiant\\Desktop\\Udacity_Data_Science\\Boston Airbnb\\Udacity_Project1\n"
     ]
    }
   ],
   "source": [
    "import os \n",
    "# get the current working directory\n",
    "cwd = os.getcwd()\n",
    "print(cwd)"
   ]
  },
  {
   "cell_type": "code",
   "execution_count": 3,
   "metadata": {
    "scrolled": true
   },
   "outputs": [
    {
     "name": "stdout",
     "output_type": "stream",
     "text": [
      "         id                            listing_url       scrape_id  \\\n",
      "0  12147973  https://www.airbnb.com/rooms/12147973  20160906204935   \n",
      "1   3075044   https://www.airbnb.com/rooms/3075044  20160906204935   \n",
      "2      6976      https://www.airbnb.com/rooms/6976  20160906204935   \n",
      "3   1436513   https://www.airbnb.com/rooms/1436513  20160906204935   \n",
      "4   7651065   https://www.airbnb.com/rooms/7651065  20160906204935   \n",
      "\n",
      "  last_scraped                                           name  \\\n",
      "0   2016-09-07                     Sunny Bungalow in the City   \n",
      "1   2016-09-07              Charming room in pet friendly apt   \n",
      "2   2016-09-07               Mexican Folk Art Haven in Boston   \n",
      "3   2016-09-07  Spacious Sunny Bedroom Suite in Historic Home   \n",
      "4   2016-09-07                            Come Home to Boston   \n",
      "\n",
      "                                             summary  \\\n",
      "0  Cozy, sunny, family home.  Master bedroom high...   \n",
      "1  Charming and quiet room in a second floor 1910...   \n",
      "2  Come stay with a friendly, middle-aged guy in ...   \n",
      "3  Come experience the comforts of home away from...   \n",
      "4  My comfy, clean and relaxing home is one block...   \n",
      "\n",
      "                                               space  \\\n",
      "0  The house has an open and cozy feel at the sam...   \n",
      "1  Small but cozy and quite room with a full size...   \n",
      "2  Come stay with a friendly, middle-aged guy in ...   \n",
      "3  Most places you find in Boston are small howev...   \n",
      "4  Clean, attractive, private room, one block fro...   \n",
      "\n",
      "                                         description experiences_offered  \\\n",
      "0  Cozy, sunny, family home.  Master bedroom high...                none   \n",
      "1  Charming and quiet room in a second floor 1910...                none   \n",
      "2  Come stay with a friendly, middle-aged guy in ...                none   \n",
      "3  Come experience the comforts of home away from...                none   \n",
      "4  My comfy, clean and relaxing home is one block...                none   \n",
      "\n",
      "                               neighborhood_overview  ... review_scores_value  \\\n",
      "0  Roslindale is quiet, convenient and friendly. ...  ...                 NaN   \n",
      "1  The room is in Roslindale, a diverse and prima...  ...                 9.0   \n",
      "2  The LOCATION: Roslindale is a safe and diverse...  ...                10.0   \n",
      "3  Roslindale is a lovely little neighborhood loc...  ...                10.0   \n",
      "4  I love the proximity to downtown, the neighbor...  ...                10.0   \n",
      "\n",
      "  requires_license license jurisdiction_names instant_bookable  \\\n",
      "0                f     NaN                NaN                f   \n",
      "1                f     NaN                NaN                t   \n",
      "2                f     NaN                NaN                f   \n",
      "3                f     NaN                NaN                f   \n",
      "4                f     NaN                NaN                f   \n",
      "\n",
      "  cancellation_policy require_guest_profile_picture  \\\n",
      "0            moderate                             f   \n",
      "1            moderate                             f   \n",
      "2            moderate                             t   \n",
      "3            moderate                             f   \n",
      "4            flexible                             f   \n",
      "\n",
      "  require_guest_phone_verification calculated_host_listings_count  \\\n",
      "0                                f                              1   \n",
      "1                                f                              1   \n",
      "2                                f                              1   \n",
      "3                                f                              1   \n",
      "4                                f                              1   \n",
      "\n",
      "   reviews_per_month  \n",
      "0                NaN  \n",
      "1               1.30  \n",
      "2               0.47  \n",
      "3               1.00  \n",
      "4               2.25  \n",
      "\n",
      "[5 rows x 95 columns]\n",
      "<class 'pandas.core.frame.DataFrame'>\n",
      "RangeIndex: 3585 entries, 0 to 3584\n",
      "Data columns (total 95 columns):\n",
      " #   Column                            Non-Null Count  Dtype  \n",
      "---  ------                            --------------  -----  \n",
      " 0   id                                3585 non-null   int64  \n",
      " 1   listing_url                       3585 non-null   object \n",
      " 2   scrape_id                         3585 non-null   int64  \n",
      " 3   last_scraped                      3585 non-null   object \n",
      " 4   name                              3585 non-null   object \n",
      " 5   summary                           3442 non-null   object \n",
      " 6   space                             2528 non-null   object \n",
      " 7   description                       3585 non-null   object \n",
      " 8   experiences_offered               3585 non-null   object \n",
      " 9   neighborhood_overview             2170 non-null   object \n",
      " 10  notes                             1610 non-null   object \n",
      " 11  transit                           2295 non-null   object \n",
      " 12  access                            2096 non-null   object \n",
      " 13  interaction                       2031 non-null   object \n",
      " 14  house_rules                       2393 non-null   object \n",
      " 15  thumbnail_url                     2986 non-null   object \n",
      " 16  medium_url                        2986 non-null   object \n",
      " 17  picture_url                       3585 non-null   object \n",
      " 18  xl_picture_url                    2986 non-null   object \n",
      " 19  host_id                           3585 non-null   int64  \n",
      " 20  host_url                          3585 non-null   object \n",
      " 21  host_name                         3585 non-null   object \n",
      " 22  host_since                        3585 non-null   object \n",
      " 23  host_location                     3574 non-null   object \n",
      " 24  host_about                        2276 non-null   object \n",
      " 25  host_response_time                3114 non-null   object \n",
      " 26  host_response_rate                3114 non-null   object \n",
      " 27  host_acceptance_rate              3114 non-null   object \n",
      " 28  host_is_superhost                 3585 non-null   object \n",
      " 29  host_thumbnail_url                3585 non-null   object \n",
      " 30  host_picture_url                  3585 non-null   object \n",
      " 31  host_neighbourhood                3246 non-null   object \n",
      " 32  host_listings_count               3585 non-null   int64  \n",
      " 33  host_total_listings_count         3585 non-null   int64  \n",
      " 34  host_verifications                3585 non-null   object \n",
      " 35  host_has_profile_pic              3585 non-null   object \n",
      " 36  host_identity_verified            3585 non-null   object \n",
      " 37  street                            3585 non-null   object \n",
      " 38  neighbourhood                     3042 non-null   object \n",
      " 39  neighbourhood_cleansed            3585 non-null   object \n",
      " 40  neighbourhood_group_cleansed      0 non-null      float64\n",
      " 41  city                              3583 non-null   object \n",
      " 42  state                             3585 non-null   object \n",
      " 43  zipcode                           3547 non-null   object \n",
      " 44  market                            3571 non-null   object \n",
      " 45  smart_location                    3585 non-null   object \n",
      " 46  country_code                      3585 non-null   object \n",
      " 47  country                           3585 non-null   object \n",
      " 48  latitude                          3585 non-null   float64\n",
      " 49  longitude                         3585 non-null   float64\n",
      " 50  is_location_exact                 3585 non-null   object \n",
      " 51  property_type                     3582 non-null   object \n",
      " 52  room_type                         3585 non-null   object \n",
      " 53  accommodates                      3585 non-null   int64  \n",
      " 54  bathrooms                         3571 non-null   float64\n",
      " 55  bedrooms                          3575 non-null   float64\n",
      " 56  beds                              3576 non-null   float64\n",
      " 57  bed_type                          3585 non-null   object \n",
      " 58  amenities                         3585 non-null   object \n",
      " 59  square_feet                       56 non-null     float64\n",
      " 60  price                             3585 non-null   object \n",
      " 61  weekly_price                      892 non-null    object \n",
      " 62  monthly_price                     888 non-null    object \n",
      " 63  security_deposit                  1342 non-null   object \n",
      " 64  cleaning_fee                      2478 non-null   object \n",
      " 65  guests_included                   3585 non-null   int64  \n",
      " 66  extra_people                      3585 non-null   object \n",
      " 67  minimum_nights                    3585 non-null   int64  \n",
      " 68  maximum_nights                    3585 non-null   int64  \n",
      " 69  calendar_updated                  3585 non-null   object \n",
      " 70  has_availability                  0 non-null      float64\n",
      " 71  availability_30                   3585 non-null   int64  \n",
      " 72  availability_60                   3585 non-null   int64  \n",
      " 73  availability_90                   3585 non-null   int64  \n",
      " 74  availability_365                  3585 non-null   int64  \n",
      " 75  calendar_last_scraped             3585 non-null   object \n",
      " 76  number_of_reviews                 3585 non-null   int64  \n",
      " 77  first_review                      2829 non-null   object \n",
      " 78  last_review                       2829 non-null   object \n",
      " 79  review_scores_rating              2772 non-null   float64\n",
      " 80  review_scores_accuracy            2762 non-null   float64\n",
      " 81  review_scores_cleanliness         2767 non-null   float64\n",
      " 82  review_scores_checkin             2765 non-null   float64\n",
      " 83  review_scores_communication       2767 non-null   float64\n",
      " 84  review_scores_location            2763 non-null   float64\n",
      " 85  review_scores_value               2764 non-null   float64\n",
      " 86  requires_license                  3585 non-null   object \n",
      " 87  license                           0 non-null      float64\n",
      " 88  jurisdiction_names                0 non-null      float64\n",
      " 89  instant_bookable                  3585 non-null   object \n",
      " 90  cancellation_policy               3585 non-null   object \n",
      " 91  require_guest_profile_picture     3585 non-null   object \n",
      " 92  require_guest_phone_verification  3585 non-null   object \n",
      " 93  calculated_host_listings_count    3585 non-null   int64  \n",
      " 94  reviews_per_month                 2829 non-null   float64\n",
      "dtypes: float64(18), int64(15), object(62)\n",
      "memory usage: 2.6+ MB\n",
      "None\n"
     ]
    }
   ],
   "source": [
    "# Import data to dataframes\n",
    "list = pd.read_csv('listings.csv')\n",
    "print(list.head())\n",
    "print(list.info()) # check basic information "
   ]
  },
  {
   "cell_type": "markdown",
   "metadata": {},
   "source": [
    "It includes basic information of Airbnb in Boston areas "
   ]
  },
  {
   "cell_type": "code",
   "execution_count": 4,
   "metadata": {},
   "outputs": [
    {
     "name": "stdout",
     "output_type": "stream",
     "text": [
      "   listing_id       id        date  reviewer_id reviewer_name  \\\n",
      "0     1178162  4724140  2013-05-21      4298113       Olivier   \n",
      "1     1178162  4869189  2013-05-29      6452964     Charlotte   \n",
      "2     1178162  5003196  2013-06-06      6449554     Sebastian   \n",
      "3     1178162  5150351  2013-06-15      2215611        Marine   \n",
      "4     1178162  5171140  2013-06-16      6848427        Andrew   \n",
      "\n",
      "                                            comments  \n",
      "0  My stay at islam's place was really cool! Good...  \n",
      "1  Great location for both airport and city - gre...  \n",
      "2  We really enjoyed our stay at Islams house. Fr...  \n",
      "3  The room was nice and clean and so were the co...  \n",
      "4  Great location. Just 5 mins walk from the Airp...  \n",
      "<class 'pandas.core.frame.DataFrame'>\n",
      "RangeIndex: 68275 entries, 0 to 68274\n",
      "Data columns (total 6 columns):\n",
      " #   Column         Non-Null Count  Dtype \n",
      "---  ------         --------------  ----- \n",
      " 0   listing_id     68275 non-null  int64 \n",
      " 1   id             68275 non-null  int64 \n",
      " 2   date           68275 non-null  object\n",
      " 3   reviewer_id    68275 non-null  int64 \n",
      " 4   reviewer_name  68275 non-null  object\n",
      " 5   comments       68222 non-null  object\n",
      "dtypes: int64(3), object(3)\n",
      "memory usage: 3.1+ MB\n"
     ]
    }
   ],
   "source": [
    "reviews = pd.read_csv('reviews.csv')\n",
    "print(reviews.head())\n",
    "reviews.info()"
   ]
  },
  {
   "cell_type": "code",
   "execution_count": 5,
   "metadata": {},
   "outputs": [
    {
     "name": "stdout",
     "output_type": "stream",
     "text": [
      "   listing_id        date available price\n",
      "0    12147973  2017-09-05         f   NaN\n",
      "1    12147973  2017-09-04         f   NaN\n",
      "2    12147973  2017-09-03         f   NaN\n",
      "3    12147973  2017-09-02         f   NaN\n",
      "4    12147973  2017-09-01         f   NaN\n",
      "<class 'pandas.core.frame.DataFrame'>\n",
      "RangeIndex: 1308890 entries, 0 to 1308889\n",
      "Data columns (total 4 columns):\n",
      " #   Column      Non-Null Count    Dtype \n",
      "---  ------      --------------    ----- \n",
      " 0   listing_id  1308890 non-null  int64 \n",
      " 1   date        1308890 non-null  object\n",
      " 2   available   1308890 non-null  object\n",
      " 3   price       643037 non-null   object\n",
      "dtypes: int64(1), object(3)\n",
      "memory usage: 39.9+ MB\n"
     ]
    }
   ],
   "source": [
    "calendar = pd.read_csv(\"calendar.csv\")\n",
    "print(calendar.head())\n",
    "calendar.info()"
   ]
  },
  {
   "cell_type": "markdown",
   "metadata": {},
   "source": [
    "Question 1. \n",
    "\n",
    "Which features affect the rental price ?"
   ]
  },
  {
   "cell_type": "code",
   "execution_count": 7,
   "metadata": {},
   "outputs": [
    {
     "name": "stdout",
     "output_type": "stream",
     "text": [
      "<class 'pandas.core.frame.DataFrame'>\n",
      "Int64Index: 24920375 entries, 0 to 24920374\n",
      "Data columns (total 9 columns):\n",
      " #   Column         Dtype \n",
      "---  ------         ----- \n",
      " 0   listing_id     int64 \n",
      " 1   id             int64 \n",
      " 2   date_x         object\n",
      " 3   reviewer_id    int64 \n",
      " 4   reviewer_name  object\n",
      " 5   comments       object\n",
      " 6   date_y         object\n",
      " 7   available      object\n",
      " 8   price          object\n",
      "dtypes: int64(3), object(6)\n",
      "memory usage: 1.9+ GB\n"
     ]
    }
   ],
   "source": [
    "# Copy the dataframe\n",
    "list_clean = list.copy()\n",
    "reviews_clean = reviews.copy()\n",
    "calendar_clean = calendar.copy()\n",
    "# merge two dataset as one\n",
    "rew_cal = pd.merge(reviews_clean,calendar_clean,on = 'listing_id',how = \"inner\")\n",
    "rew_cal.info()"
   ]
  },
  {
   "cell_type": "code",
   "execution_count": null,
   "metadata": {},
   "outputs": [],
   "source": [
    "# Data Understanding:  What kind of data that you need to find the insights ?\n",
    "# analysis the columns\n",
    "col_list = list_clean.columns\n",
    "print(col_list)"
   ]
  },
  {
   "cell_type": "code",
   "execution_count": null,
   "metadata": {},
   "outputs": [],
   "source": [
    "list_clean[\"reviews_per_month\"]"
   ]
  },
  {
   "cell_type": "code",
   "execution_count": null,
   "metadata": {},
   "outputs": [],
   "source": [
    "# First, let's drop some columns that are not useful for analysis (not related to the rental price, objects, url,)\n",
    "cols = ['listing_url', 'scrape_id', 'last_scraped', 'name', 'summary','thumbnail_url','medium_url','picture_url',\n",
    "        'description', 'experiences_offered', 'neighborhood_overview',\n",
    "       'host_id', 'host_url', 'host_name', 'host_location',\n",
    "       'host_about',  'host_neighbourhood', 'host_listings_count',\n",
    "       'host_total_listings_count', 'host_verifications',\n",
    "        'host_identity_verified', 'street',\n",
    "       'neighbourhood', 'neighbourhood_group_cleansed', 'market',\n",
    "       'smart_location', 'is_location_exact', 'review_scores_cleanliness',\n",
    "       'review_scores_checkin', 'review_scores_communication',\n",
    "       'review_scores_location', 'review_scores_value', 'requires_license',\n",
    "       'license', 'jurisdiction_names', 'instant_bookable',\n",
    "    'calculated_host_listings_count',\n",
    "       'reviews_per_month','xl_picture_url']\n",
    "list_clean.drop(cols, axis=1, inplace=True)"
   ]
  },
  {
   "cell_type": "code",
   "execution_count": null,
   "metadata": {},
   "outputs": [],
   "source": [
    "print(list_clean)\n",
    "list_clean.info()"
   ]
  },
  {
   "cell_type": "code",
   "execution_count": null,
   "metadata": {},
   "outputs": [],
   "source": [
    "# drop the colunms with more than half of the missing value\n",
    "cols = list_clean.columns[list_clean.isnull().sum()/list_clean.shape[0] > 0.5]\n",
    "list_clean.drop(cols, axis=1, inplace=True)"
   ]
  },
  {
   "cell_type": "code",
   "execution_count": null,
   "metadata": {},
   "outputs": [],
   "source": [
    "print(list_clean)\n",
    "list_clean.info()"
   ]
  },
  {
   "cell_type": "code",
   "execution_count": null,
   "metadata": {},
   "outputs": [],
   "source": [
    "# Next, let's fix some datatype errors, extract numbers and change to int type\n",
    "list_clean.info()\n",
    "list_clean.head()"
   ]
  },
  {
   "cell_type": "code",
   "execution_count": null,
   "metadata": {},
   "outputs": [],
   "source": [
    "#convert to string and extract the integer using regular expressions.\n",
    "list_clean['price']=list_clean['price'].str.extract('(\\d+)').astype(int)"
   ]
  },
  {
   "cell_type": "code",
   "execution_count": null,
   "metadata": {},
   "outputs": [],
   "source": [
    "print(list_clean['price'])"
   ]
  },
  {
   "cell_type": "code",
   "execution_count": null,
   "metadata": {},
   "outputs": [],
   "source": [
    "list_clean['cleaning_fee']=list_clean['cleaning_fee'].str.extract('(\\d+)').astype(float)"
   ]
  },
  {
   "cell_type": "code",
   "execution_count": null,
   "metadata": {},
   "outputs": [],
   "source": [
    "print(list_clean['cleaning_fee'])"
   ]
  },
  {
   "cell_type": "code",
   "execution_count": null,
   "metadata": {},
   "outputs": [],
   "source": [
    "list_clean[\"extra_people\"]=list_clean['extra_people'].str.extract('(\\d+)').astype(float)\n",
    "print(list_clean['extra_people'])"
   ]
  },
  {
   "cell_type": "code",
   "execution_count": null,
   "metadata": {},
   "outputs": [],
   "source": [
    "list_clean[\"zipcode\"]=list_clean['zipcode'].str.extract('(\\d+)').astype(float)\n",
    "print(list_clean['zipcode'])"
   ]
  },
  {
   "cell_type": "code",
   "execution_count": null,
   "metadata": {},
   "outputs": [],
   "source": [
    "# Change datatype for host_since\n",
    "list_clean['host_since'] = pd.to_datetime(list_clean.host_since)\n",
    "print(list_clean['host_since'])"
   ]
  },
  {
   "cell_type": "code",
   "execution_count": null,
   "metadata": {},
   "outputs": [],
   "source": [
    "# select subste of datalist with \"int\" and \"float\",it has been selected to explore person's correlation\n",
    "df_num = list_clean.select_dtypes(include=['int64','int32','float64'])\n",
    "df_num.head()\n",
    "df_num.info()"
   ]
  },
  {
   "cell_type": "code",
   "execution_count": null,
   "metadata": {},
   "outputs": [],
   "source": [
    "# use scatterplot to explore the location\n",
    "sns.scatterplot(data = list_clean, x = \"latitude\", y =\"longitude\",hue = \"price\", palette =\"Blues\")"
   ]
  },
  {
   "cell_type": "markdown",
   "metadata": {},
   "source": [
    " we can see there is no clear relationship bewteen price and locations "
   ]
  },
  {
   "cell_type": "code",
   "execution_count": null,
   "metadata": {},
   "outputs": [],
   "source": [
    "# visualizae the price\n",
    "sns.distplot(df_num['price'], bins=20, kde=True)\n",
    "plt.ylabel('Percentage', fontsize=11)\n",
    "plt.xlabel('Price (dollar)', fontsize=11)\n",
    "plt.title('Listed Price Distribution', fontsize=12);"
   ]
  },
  {
   "cell_type": "code",
   "execution_count": null,
   "metadata": {},
   "outputs": [],
   "source": [
    "# visualize the correlation matrix\n",
    "corr = df_num.corr()\n",
    "mask = np.zeros_like(corr) #Use a mask to plot only part of a matrix\n",
    "mask[np.triu_indices_from(mask)] = True\n",
    "with sns.axes_style(\"white\"):\n",
    "    f, ax = plt.subplots(figsize=(18, 16))\n",
    "    ax = sns.heatmap(corr, mask=mask, vmax=.3, square=True, annot=True, fmt='.2f', cmap='coolwarm')"
   ]
  },
  {
   "cell_type": "markdown",
   "metadata": {},
   "source": [
    "Based on the numerical data,the price is highly related to the number of accommodates, bedrooms, beds, cleanning_fee, and guests_included"
   ]
  },
  {
   "cell_type": "code",
   "execution_count": null,
   "metadata": {},
   "outputs": [],
   "source": [
    "price_list = df_num.groupby(['bedrooms','bathrooms']).mean()['price']\n",
    "sns.scatterplot(data = df_num, x = \"bedrooms\", y =\"price\",hue ='guests_included', palette =\"Blues\")"
   ]
  },
  {
   "cell_type": "code",
   "execution_count": null,
   "metadata": {},
   "outputs": [],
   "source": [
    "sns.scatterplot(data = df_num, x = \"zipcode\", y =\"price\", palette =\"Blues\")"
   ]
  },
  {
   "cell_type": "code",
   "execution_count": null,
   "metadata": {},
   "outputs": [],
   "source": [
    "sns.boxplot(x = \"bedrooms\", y =\"price\", data = df_num, palette =\"Blues\")"
   ]
  },
  {
   "cell_type": "code",
   "execution_count": null,
   "metadata": {},
   "outputs": [],
   "source": [
    "sns.regplot(x = \"cleaning_fee\", y =\"price\", data = df_num) "
   ]
  },
  {
   "cell_type": "code",
   "execution_count": null,
   "metadata": {},
   "outputs": [],
   "source": [
    "# Now start to work with \"object\" \n",
    "df_cat = list_clean.select_dtypes(include=['object']) # subset dataframe \n",
    "df_cat.info()"
   ]
  },
  {
   "cell_type": "code",
   "execution_count": null,
   "metadata": {},
   "outputs": [],
   "source": [
    "df_cat.head()"
   ]
  },
  {
   "cell_type": "code",
   "execution_count": null,
   "metadata": {},
   "outputs": [],
   "source": [
    "# Take a quick look about the specific columns and their relationship with price"
   ]
  },
  {
   "cell_type": "code",
   "execution_count": null,
   "metadata": {},
   "outputs": [],
   "source": [
    "sns.countplot(x='property_type', data=df_cat,palette=\"Set3\")\n",
    "plt.show()\n",
    "\n",
    "sns.boxplot(x = \"property_type\", y =\"price\", data = list_clean, palette =\"Blues\")\n"
   ]
  },
  {
   "cell_type": "code",
   "execution_count": null,
   "metadata": {},
   "outputs": [],
   "source": [
    "sns.countplot(x='cancellation_policy', data=df_cat,palette=\"Set3\")\n",
    "plt.show()\n",
    "\n",
    "sns.boxplot(x = \"cancellation_policy\", y =\"price\", data = list_clean, palette =\"Blues\")"
   ]
  },
  {
   "cell_type": "code",
   "execution_count": null,
   "metadata": {},
   "outputs": [],
   "source": [
    "sns.countplot(x='room_type', data=df_cat,palette=\"Set3\")\n",
    "plt.show()\n",
    "sns.boxplot(x = \"room_type\", y =\"price\", data = list_clean, palette =\"Blues\")"
   ]
  },
  {
   "cell_type": "code",
   "execution_count": null,
   "metadata": {},
   "outputs": [],
   "source": [
    "sns.countplot(x='require_guest_phone_verification', data=df_cat, palette=\"Set3\")   \n",
    "plt.show()\n",
    "\n",
    "sns.boxplot(x = \"require_guest_phone_verification\", y =\"price\", data = list_clean, palette =\"Blues\")"
   ]
  },
  {
   "cell_type": "code",
   "execution_count": null,
   "metadata": {},
   "outputs": [],
   "source": [
    "sns.countplot(x='require_guest_profile_picture', data=df_cat,palette=\"Set3\")   \n",
    "plt.show()\n",
    "sns.boxplot(x = \"require_guest_profile_picture\", y =\"price\", data = list_clean, palette =\"Blues\")"
   ]
  },
  {
   "cell_type": "code",
   "execution_count": null,
   "metadata": {},
   "outputs": [],
   "source": [
    "sns.countplot(x='host_is_superhost', data=df_cat,palette=\"Set3\")   \n",
    "plt.show()\n",
    "sns.boxplot(x = \"host_is_superhost\", y =\"price\", data = list_clean, palette =\"Blues\")"
   ]
  },
  {
   "cell_type": "markdown",
   "metadata": {},
   "source": [
    "require_guest_phone_verification, room_type，cancellation_policy are affect the price "
   ]
  },
  {
   "cell_type": "markdown",
   "metadata": {},
   "source": [
    "Question 2.\n",
    "\n",
    "What's the predicted rental price ?"
   ]
  },
  {
   "cell_type": "code",
   "execution_count": null,
   "metadata": {},
   "outputs": [],
   "source": [
    "# mutiple linear regression will be used to predict price\n",
    "y = list_clean['price']"
   ]
  },
  {
   "cell_type": "code",
   "execution_count": null,
   "metadata": {},
   "outputs": [],
   "source": [
    "# Base on previous exploration, \n",
    "# the number of accommodates, bedrooms, beds, cleanning_fee, and guess_included, \n",
    "# require_guest_phone_verification, room_type，cancellation_policy, \n",
    "# are affect the price "
   ]
  },
  {
   "cell_type": "code",
   "execution_count": null,
   "metadata": {},
   "outputs": [],
   "source": [
    "# Dummy variables for Categorical Values\n",
    "list_clean['require_guest_phone_verification'].hist() "
   ]
  },
  {
   "cell_type": "code",
   "execution_count": null,
   "metadata": {},
   "outputs": [],
   "source": [
    "list_clean['require_guest_phone_verification'] = pd.get_dummies(list_clean['require_guest_phone_verification']) # code F as 1; code t as 0"
   ]
  },
  {
   "cell_type": "code",
   "execution_count": null,
   "metadata": {},
   "outputs": [],
   "source": [
    "print(list_clean['require_guest_phone_verification'])"
   ]
  },
  {
   "cell_type": "code",
   "execution_count": null,
   "metadata": {},
   "outputs": [],
   "source": [
    "list_clean['room_type'] = pd.get_dummies(list_clean['room_type']) \n",
    "list_clean['room_type'].hist()"
   ]
  },
  {
   "cell_type": "code",
   "execution_count": null,
   "metadata": {},
   "outputs": [],
   "source": [
    "list_clean['cancellation_policy'] = pd.get_dummies(list_clean['cancellation_policy']) \n",
    "list_clean['cancellation_policy'].hist()"
   ]
  },
  {
   "cell_type": "code",
   "execution_count": null,
   "metadata": {},
   "outputs": [],
   "source": []
  },
  {
   "cell_type": "code",
   "execution_count": null,
   "metadata": {},
   "outputs": [],
   "source": [
    "# Then, make a prediction using mutiple linear regression\n",
    "# parameters:\n",
    "# numerical data, accommodates, bedrooms, beds, cleanning_fee, and guess_included\n",
    "# Categorical data, require_guest_phone_verification, room_type，cancellation_policy, "
   ]
  },
  {
   "cell_type": "markdown",
   "metadata": {},
   "source": [
    "Prepare for traning data\n",
    "\n",
    "Supervised ML process: \n",
    "\t\t\t§ Instantiate \n",
    "\t\t\t§ Fit the model using training data\n",
    "\t\t\t§ Predict the results based on fitted model\n",
    "\t\t\t§ Score\n",
    "\n"
   ]
  },
  {
   "cell_type": "code",
   "execution_count": null,
   "metadata": {},
   "outputs": [],
   "source": [
    "list_clean[\"guests_included\"]"
   ]
  },
  {
   "cell_type": "code",
   "execution_count": null,
   "metadata": {},
   "outputs": [],
   "source": [
    "# Prepare for traning data\n",
    "# only set the quantitative vars\n",
    "varables = list_clean[['accommodates', 'bedrooms', 'beds', 'cleaning_fee','guests_included',\n",
    "                       'require_guest_phone_verification','room_type','cancellation_policy',\n",
    "                       'price']]\n",
    "\n",
    "# remove all nan value\n",
    "all_va = varables.dropna()\n",
    "\n",
    "X = all_va[['accommodates', 'bedrooms', 'beds', 'cleaning_fee','guests_included',\n",
    "                       'require_guest_phone_verification','room_type','cancellation_policy',]]\n",
    "y = all_va['price'] \n",
    "\n",
    "# Split data into training and test data, and fit a linear model\n",
    "from sklearn.model_selection import train_test_split\n",
    "# Split data into training and test data, and fit a linear model\n",
    "X_train, X_test, y_train, y_test = train_test_split(X, y , test_size=.30, random_state=32)"
   ]
  },
  {
   "cell_type": "code",
   "execution_count": null,
   "metadata": {},
   "outputs": [],
   "source": [
    "#Four steps:  Supervised ML process: \n",
    "import sklearn\n",
    "from sklearn.linear_model import LinearRegression\n",
    "from sklearn.metrics import r2_score, mean_squared_error\n",
    "\n",
    "#Instantiate\n",
    "lm_model = LinearRegression(normalize=True)\n",
    "#Fit - why does this break?\n",
    "lm_model.fit(X_train, y_train) \n",
    "#Predict\n",
    "y_test_preds =lm_model.predict(X_test)\n",
    "#Score\n",
    "r_test = r2_score(y_test, y_test_preds) # Rsquared here\n",
    "print(\"Rsquared in test dataset: \"+ str(r_test) )\n"
   ]
  },
  {
   "cell_type": "code",
   "execution_count": null,
   "metadata": {},
   "outputs": [],
   "source": [
    "#or Use cross validation  \n",
    "from sklearn.model_selection  import cross_val_score \n",
    "\n",
    "#Instantiate\n",
    "lm_model = LinearRegression(normalize=True)\n",
    "#Fit,Predict,Score\n",
    "scores = cross_val_score(lm_model, X, y, cv =5, scoring= \"r2\"  )\n",
    "print(\"%0.2f accuracy with a standard deviation of %0.2f\" % (scores.mean(), scores.std()))"
   ]
  },
  {
   "cell_type": "markdown",
   "metadata": {},
   "source": [
    "Question 3.\n",
    "How rental price is related to seasons ? "
   ]
  },
  {
   "cell_type": "code",
   "execution_count": null,
   "metadata": {},
   "outputs": [],
   "source": [
    "rew_cal.info()\n",
    "rew_cal.head()"
   ]
  },
  {
   "cell_type": "code",
   "execution_count": null,
   "metadata": {},
   "outputs": [],
   "source": [
    "# To explore the relationship between date and price, calendar dataset is necessary\n",
    "calendar = pd.read_csv(\"calendar.csv\")\n",
    "print(calendar.head())\n",
    "calendar.info()"
   ]
  },
  {
   "cell_type": "code",
   "execution_count": null,
   "metadata": {},
   "outputs": [],
   "source": [
    "data_price = calendar[['date','price',\"available\"]]\n",
    "data_price.info()"
   ]
  },
  {
   "cell_type": "code",
   "execution_count": null,
   "metadata": {},
   "outputs": [],
   "source": [
    "data_price = data_price.dropna()\n",
    "data_price.info()"
   ]
  },
  {
   "cell_type": "code",
   "execution_count": null,
   "metadata": {},
   "outputs": [],
   "source": [
    "data_price['date'] = pd.to_datetime(data_price['date'])"
   ]
  },
  {
   "cell_type": "code",
   "execution_count": null,
   "metadata": {},
   "outputs": [],
   "source": [
    "#convert to string and extract the integer using regular expressions.\n",
    "data_price['price']=data_price['price'].str.extract('(\\d+)').astype(int)"
   ]
  },
  {
   "cell_type": "code",
   "execution_count": null,
   "metadata": {},
   "outputs": [],
   "source": [
    "data_price['available'].hist()"
   ]
  },
  {
   "cell_type": "code",
   "execution_count": null,
   "metadata": {},
   "outputs": [],
   "source": [
    "from pandas import read_csv\n",
    "from matplotlib import pyplot\n",
    "\n",
    "data_price[\"date\"].head()"
   ]
  },
  {
   "cell_type": "code",
   "execution_count": null,
   "metadata": {},
   "outputs": [],
   "source": [
    "from pandas import Grouper\n",
    "date_group= data_price.groupby(pd.Grouper(key=\"date\", freq=\"M\")).mean() # groupby date by Momth\n",
    "print(date_group)"
   ]
  },
  {
   "cell_type": "code",
   "execution_count": null,
   "metadata": {},
   "outputs": [],
   "source": [
    "date_group.plot()"
   ]
  },
  {
   "cell_type": "code",
   "execution_count": null,
   "metadata": {},
   "outputs": [],
   "source": [
    "import seaborn as sns\n",
    "sns.lineplot(x=\"date\", y=\"price\",\n",
    "             data=data_price)"
   ]
  },
  {
   "cell_type": "markdown",
   "metadata": {},
   "source": [
    "The rental price is decreased from 240 to 180 "
   ]
  }
 ],
 "metadata": {
  "kernelspec": {
   "display_name": "Python 3",
   "language": "python",
   "name": "python3"
  },
  "language_info": {
   "codemirror_mode": {
    "name": "ipython",
    "version": 3
   },
   "file_extension": ".py",
   "mimetype": "text/x-python",
   "name": "python",
   "nbconvert_exporter": "python",
   "pygments_lexer": "ipython3",
   "version": "3.8.5"
  }
 },
 "nbformat": 4,
 "nbformat_minor": 4
}
